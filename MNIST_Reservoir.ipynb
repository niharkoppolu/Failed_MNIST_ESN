{
 "cells": [
  {
   "cell_type": "code",
   "execution_count": 49,
   "id": "bd38a34d",
   "metadata": {},
   "outputs": [],
   "source": [
    "#MNIST Reservoir                         #07/16/2021\n",
    "import reservoirpy as rpy\n",
    "\n",
    "from reservoirpy.nodes import Reservoir, Ridge\n",
    "\n",
    "reservoir = Reservoir(100, lr=0.5, sr=0.9)\n",
    "readout = Ridge(ridge=1e-7) #Ridge is the readout lyaer: uses linear regression\n",
    "\n",
    "esn_model = reservoir >> readout #This connects the ridge node to the reservoir\n",
    "\n"
   ]
  },
  {
   "cell_type": "code",
   "execution_count": 50,
   "id": "4ea6c619",
   "metadata": {},
   "outputs": [
    {
     "name": "stdout",
     "output_type": "stream",
     "text": [
      "\n",
      "\n",
      "Value held in ans:\n",
      " 5.0\n",
      "\n",
      "X[0]: [[0.01 0.01 0.01 ... 0.01 0.01 0.01]\n",
      " [0.01 0.01 0.01 ... 0.01 0.01 0.01]\n",
      " [0.01 0.01 0.01 ... 0.01 0.01 0.01]\n",
      " ...\n",
      " [0.01 0.01 0.01 ... 0.01 0.01 0.01]\n",
      " [0.01 0.01 0.01 ... 0.01 0.01 0.01]\n",
      " [0.01 0.01 0.01 ... 0.01 0.01 0.01]]\n"
     ]
    },
    {
     "data": {
      "text/plain": [
       "\"\\ncheck_val = tr_data_list[0]\\ncheck_val = check_val.split(',')\\nimage_array = numpy.asfarray(check_val[1:]).reshape((28,28))\\nmatplotlib.pyplot.imshow(image_array, cmap='Greys', interpolation='None')\\n\""
      ]
     },
     "execution_count": 50,
     "metadata": {},
     "output_type": "execute_result"
    }
   ],
   "source": [
    "import numpy\n",
    "import matplotlib.pyplot\n",
    "%matplotlib inline\n",
    "\n",
    "#read in training data\n",
    "tr_data_file = open(r\"/Users/niharkoppolu/Desktop/Number_Detection_Project/mnist_data_set/mnist_train.csv\")\n",
    "tr_data_list = tr_data_file.readlines()\n",
    "tr_data_file.close()\n",
    "\n",
    "\n",
    "train_length = len(tr_data_list)\n",
    "\n",
    "X_training_inputs = numpy.empty((train_length, 784))\n",
    "Y_training_ans = numpy.empty(train_length)\n",
    "index = 0\n",
    "\n",
    "\n",
    "for record in tr_data_list:\n",
    "\n",
    "        #convert test data from list off comma sep. vals to array of floats\n",
    "        all_values = record.split(',')\n",
    "        all_values = numpy.asfarray(all_values)\n",
    "\n",
    "        #rescale data from 0 - 255 to range btw 0 - 0.99\n",
    "        X_training_inputs[index] = (all_values[1:] / 255.0 * 0.99) + 0.01\n",
    "        Y_training_ans[index] = all_values[0]#cast all training answers to ints\n",
    "\n",
    "        index += 1\n",
    "        pass\n",
    "\n",
    "\n",
    "\n",
    "#USED TO TEST IF CORRECT VALUE IS BEING ADDED TO ARRAY\n",
    "print(\"\\n\\nValue held in ans:\\n\", Y_training_ans[0])\n",
    "print(\"\\nX[0]:\", X_training_inputs[:200])\n",
    "\"\"\"\n",
    "check_val = tr_data_list[0]\n",
    "check_val = check_val.split(',')\n",
    "image_array = numpy.asfarray(check_val[1:]).reshape((28,28))\n",
    "matplotlib.pyplot.imshow(image_array, cmap='Greys', interpolation='None')\n",
    "\"\"\"       "
   ]
  },
  {
   "cell_type": "code",
   "execution_count": 51,
   "id": "1c511989",
   "metadata": {},
   "outputs": [
    {
     "name": "stderr",
     "output_type": "stream",
     "text": [
      "Running Reservoir-15: 100%|██████████| 60000/60000 [00:03<00:00, 17727.05it/s]\n"
     ]
    },
    {
     "ename": "ValueError",
     "evalue": "shapes (60000,1) and (60000,101) not aligned: 1 (dim 1) != 60000 (dim 0)",
     "output_type": "error",
     "traceback": [
      "\u001b[0;31m---------------------------------------------------------------------------\u001b[0m",
      "\u001b[0;31mValueError\u001b[0m                                Traceback (most recent call last)",
      "\u001b[1;32m/Users/niharkoppolu/Desktop/ESN/MNIST_Reservoir.ipynb Cell 3'\u001b[0m in \u001b[0;36m<cell line: 4>\u001b[0;34m()\u001b[0m\n\u001b[1;32m      <a href='vscode-notebook-cell:/Users/niharkoppolu/Desktop/ESN/MNIST_Reservoir.ipynb#ch0000002?line=0'>1</a>\u001b[0m train_states \u001b[39m=\u001b[39m reservoir\u001b[39m.\u001b[39mrun(X_training_inputs, reset\u001b[39m=\u001b[39m\u001b[39mTrue\u001b[39;00m) \u001b[39m#Putting input values into higher dimensional space\u001b[39;00m\n\u001b[1;32m      <a href='vscode-notebook-cell:/Users/niharkoppolu/Desktop/ESN/MNIST_Reservoir.ipynb#ch0000002?line=2'>3</a>\u001b[0m readout \u001b[39m=\u001b[39m Ridge(ridge\u001b[39m=\u001b[39m\u001b[39m1e-7\u001b[39m)\n\u001b[0;32m----> <a href='vscode-notebook-cell:/Users/niharkoppolu/Desktop/ESN/MNIST_Reservoir.ipynb#ch0000002?line=3'>4</a>\u001b[0m readout \u001b[39m=\u001b[39m readout\u001b[39m.\u001b[39;49mfit(train_states, Y_training_ans)\n",
      "File \u001b[0;32m~/miniconda3/envs/Gillespy2/lib/python3.10/site-packages/reservoirpy/node.py:1144\u001b[0m, in \u001b[0;36mNode.fit\u001b[0;34m(self, X, Y, warmup)\u001b[0m\n\u001b[1;32m   <a href='file:///Users/niharkoppolu/miniconda3/envs/Gillespy2/lib/python3.10/site-packages/reservoirpy/node.py?line=1141'>1142</a>\u001b[0m \u001b[39mif\u001b[39;00m X \u001b[39mis\u001b[39;00m \u001b[39mnot\u001b[39;00m \u001b[39mNone\u001b[39;00m:\n\u001b[1;32m   <a href='file:///Users/niharkoppolu/miniconda3/envs/Gillespy2/lib/python3.10/site-packages/reservoirpy/node.py?line=1142'>1143</a>\u001b[0m     \u001b[39mif\u001b[39;00m \u001b[39mself\u001b[39m\u001b[39m.\u001b[39m_partial_backward \u001b[39mis\u001b[39;00m \u001b[39mnot\u001b[39;00m \u001b[39mNone\u001b[39;00m:\n\u001b[0;32m-> <a href='file:///Users/niharkoppolu/miniconda3/envs/Gillespy2/lib/python3.10/site-packages/reservoirpy/node.py?line=1143'>1144</a>\u001b[0m         \u001b[39mself\u001b[39;49m\u001b[39m.\u001b[39;49mpartial_fit(X, Y, warmup\u001b[39m=\u001b[39;49mwarmup)\n\u001b[1;32m   <a href='file:///Users/niharkoppolu/miniconda3/envs/Gillespy2/lib/python3.10/site-packages/reservoirpy/node.py?line=1145'>1146</a>\u001b[0m \u001b[39melif\u001b[39;00m \u001b[39mnot\u001b[39;00m \u001b[39mself\u001b[39m\u001b[39m.\u001b[39m_is_initialized:\n\u001b[1;32m   <a href='file:///Users/niharkoppolu/miniconda3/envs/Gillespy2/lib/python3.10/site-packages/reservoirpy/node.py?line=1146'>1147</a>\u001b[0m     \u001b[39mraise\u001b[39;00m \u001b[39mRuntimeError\u001b[39;00m(\n\u001b[1;32m   <a href='file:///Users/niharkoppolu/miniconda3/envs/Gillespy2/lib/python3.10/site-packages/reservoirpy/node.py?line=1147'>1148</a>\u001b[0m         \u001b[39mf\u001b[39m\u001b[39m\"\u001b[39m\u001b[39mImpossible to fit node \u001b[39m\u001b[39m{\u001b[39;00m\u001b[39mself\u001b[39m\u001b[39m.\u001b[39mname\u001b[39m}\u001b[39;00m\u001b[39m: node\u001b[39m\u001b[39m\"\u001b[39m\n\u001b[1;32m   <a href='file:///Users/niharkoppolu/miniconda3/envs/Gillespy2/lib/python3.10/site-packages/reservoirpy/node.py?line=1148'>1149</a>\u001b[0m         \u001b[39mf\u001b[39m\u001b[39m\"\u001b[39m\u001b[39mis not initialized, and fit was called \u001b[39m\u001b[39m\"\u001b[39m\n\u001b[1;32m   <a href='file:///Users/niharkoppolu/miniconda3/envs/Gillespy2/lib/python3.10/site-packages/reservoirpy/node.py?line=1149'>1150</a>\u001b[0m         \u001b[39mf\u001b[39m\u001b[39m\"\u001b[39m\u001b[39mwithout input and teacher data.\u001b[39m\u001b[39m\"\u001b[39m\n\u001b[1;32m   <a href='file:///Users/niharkoppolu/miniconda3/envs/Gillespy2/lib/python3.10/site-packages/reservoirpy/node.py?line=1150'>1151</a>\u001b[0m     )\n",
      "File \u001b[0;32m~/miniconda3/envs/Gillespy2/lib/python3.10/site-packages/reservoirpy/node.py:1105\u001b[0m, in \u001b[0;36mNode.partial_fit\u001b[0;34m(self, X_batch, Y_batch, warmup, **kwargs)\u001b[0m\n\u001b[1;32m   <a href='file:///Users/niharkoppolu/miniconda3/envs/Gillespy2/lib/python3.10/site-packages/reservoirpy/node.py?line=1098'>1099</a>\u001b[0m     \u001b[39mraise\u001b[39;00m \u001b[39mValueError\u001b[39;00m(\n\u001b[1;32m   <a href='file:///Users/niharkoppolu/miniconda3/envs/Gillespy2/lib/python3.10/site-packages/reservoirpy/node.py?line=1099'>1100</a>\u001b[0m         \u001b[39mf\u001b[39m\u001b[39m\"\u001b[39m\u001b[39mWarmup set to \u001b[39m\u001b[39m{\u001b[39;00mwarmup\u001b[39m}\u001b[39;00m\u001b[39m timesteps, but one timeseries is only \u001b[39m\u001b[39m\"\u001b[39m\n\u001b[1;32m   <a href='file:///Users/niharkoppolu/miniconda3/envs/Gillespy2/lib/python3.10/site-packages/reservoirpy/node.py?line=1100'>1101</a>\u001b[0m         \u001b[39mf\u001b[39m\u001b[39m\"\u001b[39m\u001b[39m{\u001b[39;00mX_seq\u001b[39m.\u001b[39mshape[\u001b[39m0\u001b[39m]\u001b[39m}\u001b[39;00m\u001b[39m long.\u001b[39m\u001b[39m\"\u001b[39m\n\u001b[1;32m   <a href='file:///Users/niharkoppolu/miniconda3/envs/Gillespy2/lib/python3.10/site-packages/reservoirpy/node.py?line=1101'>1102</a>\u001b[0m     )\n\u001b[1;32m   <a href='file:///Users/niharkoppolu/miniconda3/envs/Gillespy2/lib/python3.10/site-packages/reservoirpy/node.py?line=1103'>1104</a>\u001b[0m \u001b[39mif\u001b[39;00m Y_seq \u001b[39mis\u001b[39;00m \u001b[39mnot\u001b[39;00m \u001b[39mNone\u001b[39;00m:\n\u001b[0;32m-> <a href='file:///Users/niharkoppolu/miniconda3/envs/Gillespy2/lib/python3.10/site-packages/reservoirpy/node.py?line=1104'>1105</a>\u001b[0m     \u001b[39mself\u001b[39;49m\u001b[39m.\u001b[39;49m_partial_backward(\u001b[39mself\u001b[39;49m, X_seq[warmup:], Y_seq[warmup:])\n\u001b[1;32m   <a href='file:///Users/niharkoppolu/miniconda3/envs/Gillespy2/lib/python3.10/site-packages/reservoirpy/node.py?line=1105'>1106</a>\u001b[0m \u001b[39melse\u001b[39;00m:\n\u001b[1;32m   <a href='file:///Users/niharkoppolu/miniconda3/envs/Gillespy2/lib/python3.10/site-packages/reservoirpy/node.py?line=1106'>1107</a>\u001b[0m     \u001b[39mself\u001b[39m\u001b[39m.\u001b[39m_partial_backward(\u001b[39mself\u001b[39m, X_seq[warmup:])\n",
      "File \u001b[0;32m~/miniconda3/envs/Gillespy2/lib/python3.10/site-packages/reservoirpy/nodes/readouts/ridge.py:38\u001b[0m, in \u001b[0;36mpartial_backward\u001b[0;34m(readout, X_batch, Y_batch, lock)\u001b[0m\n\u001b[1;32m     <a href='file:///Users/niharkoppolu/miniconda3/envs/Gillespy2/lib/python3.10/site-packages/reservoirpy/nodes/readouts/ridge.py?line=29'>30</a>\u001b[0m X, Y \u001b[39m=\u001b[39m _prepare_inputs_for_learning(\n\u001b[1;32m     <a href='file:///Users/niharkoppolu/miniconda3/envs/Gillespy2/lib/python3.10/site-packages/reservoirpy/nodes/readouts/ridge.py?line=30'>31</a>\u001b[0m     X_batch,\n\u001b[1;32m     <a href='file:///Users/niharkoppolu/miniconda3/envs/Gillespy2/lib/python3.10/site-packages/reservoirpy/nodes/readouts/ridge.py?line=31'>32</a>\u001b[0m     Y_batch,\n\u001b[1;32m     <a href='file:///Users/niharkoppolu/miniconda3/envs/Gillespy2/lib/python3.10/site-packages/reservoirpy/nodes/readouts/ridge.py?line=32'>33</a>\u001b[0m     bias\u001b[39m=\u001b[39mreadout\u001b[39m.\u001b[39minput_bias,\n\u001b[1;32m     <a href='file:///Users/niharkoppolu/miniconda3/envs/Gillespy2/lib/python3.10/site-packages/reservoirpy/nodes/readouts/ridge.py?line=33'>34</a>\u001b[0m     allow_reshape\u001b[39m=\u001b[39m\u001b[39mTrue\u001b[39;00m,\n\u001b[1;32m     <a href='file:///Users/niharkoppolu/miniconda3/envs/Gillespy2/lib/python3.10/site-packages/reservoirpy/nodes/readouts/ridge.py?line=34'>35</a>\u001b[0m )\n\u001b[1;32m     <a href='file:///Users/niharkoppolu/miniconda3/envs/Gillespy2/lib/python3.10/site-packages/reservoirpy/nodes/readouts/ridge.py?line=36'>37</a>\u001b[0m xxt \u001b[39m=\u001b[39m X\u001b[39m.\u001b[39mT\u001b[39m.\u001b[39mdot(X)\n\u001b[0;32m---> <a href='file:///Users/niharkoppolu/miniconda3/envs/Gillespy2/lib/python3.10/site-packages/reservoirpy/nodes/readouts/ridge.py?line=37'>38</a>\u001b[0m yxt \u001b[39m=\u001b[39m Y\u001b[39m.\u001b[39;49mT\u001b[39m.\u001b[39;49mdot(X)\n\u001b[1;32m     <a href='file:///Users/niharkoppolu/miniconda3/envs/Gillespy2/lib/python3.10/site-packages/reservoirpy/nodes/readouts/ridge.py?line=39'>40</a>\u001b[0m \u001b[39mif\u001b[39;00m lock \u001b[39mis\u001b[39;00m \u001b[39mnot\u001b[39;00m \u001b[39mNone\u001b[39;00m:\n\u001b[1;32m     <a href='file:///Users/niharkoppolu/miniconda3/envs/Gillespy2/lib/python3.10/site-packages/reservoirpy/nodes/readouts/ridge.py?line=40'>41</a>\u001b[0m     \u001b[39m# This is not thread-safe using Numpy memmap as buffers\u001b[39;00m\n\u001b[1;32m     <a href='file:///Users/niharkoppolu/miniconda3/envs/Gillespy2/lib/python3.10/site-packages/reservoirpy/nodes/readouts/ridge.py?line=41'>42</a>\u001b[0m     \u001b[39m# ok for parallelization then with a lock (see ESN object)\u001b[39;00m\n\u001b[1;32m     <a href='file:///Users/niharkoppolu/miniconda3/envs/Gillespy2/lib/python3.10/site-packages/reservoirpy/nodes/readouts/ridge.py?line=42'>43</a>\u001b[0m     \u001b[39mwith\u001b[39;00m lock:\n",
      "\u001b[0;31mValueError\u001b[0m: shapes (60000,1) and (60000,101) not aligned: 1 (dim 1) != 60000 (dim 0)"
     ]
    }
   ],
   "source": [
    "train_states = reservoir.run(X_training_inputs, reset=True) #Putting input values into higher dimensional space\n",
    "\n",
    "readout = Ridge(ridge=1e-7)\n",
    "readout = readout.fit(train_states, Y_training_ans) #Training the readout layer. Warm-up discards first 10 timestep values"
   ]
  },
  {
   "cell_type": "code",
   "execution_count": null,
   "id": "f416f4d2",
   "metadata": {},
   "outputs": [
    {
     "ename": "TypeError",
     "evalue": "'int' object is not iterable",
     "output_type": "error",
     "traceback": [
      "\u001b[0;31m---------------------------------------------------------------------------\u001b[0m",
      "\u001b[0;31mTypeError\u001b[0m                                 Traceback (most recent call last)",
      "\u001b[1;32m/Users/niharkoppolu/Desktop/ESN/MNIST_Reservoir.ipynb Cell 4'\u001b[0m in \u001b[0;36m<cell line: 12>\u001b[0;34m()\u001b[0m\n\u001b[1;32m      <a href='vscode-notebook-cell:/Users/niharkoppolu/Desktop/ESN/MNIST_Reservoir.ipynb#ch0000004?line=8'>9</a>\u001b[0m test_inputs \u001b[39m=\u001b[39m numpy\u001b[39m.\u001b[39mempty((train_length, \u001b[39m784\u001b[39m))\n\u001b[1;32m     <a href='vscode-notebook-cell:/Users/niharkoppolu/Desktop/ESN/MNIST_Reservoir.ipynb#ch0000004?line=9'>10</a>\u001b[0m correct_answers \u001b[39m=\u001b[39m numpy\u001b[39m.\u001b[39mempty((train_length))\n\u001b[0;32m---> <a href='vscode-notebook-cell:/Users/niharkoppolu/Desktop/ESN/MNIST_Reservoir.ipynb#ch0000004?line=11'>12</a>\u001b[0m \u001b[39mfor\u001b[39;00m i \u001b[39min\u001b[39;00m test_length:\n\u001b[1;32m     <a href='vscode-notebook-cell:/Users/niharkoppolu/Desktop/ESN/MNIST_Reservoir.ipynb#ch0000004?line=12'>13</a>\u001b[0m     all_testsets \u001b[39m=\u001b[39m test_data_list[i]\u001b[39m.\u001b[39msplit(\u001b[39m'\u001b[39m\u001b[39m,\u001b[39m\u001b[39m'\u001b[39m)\n\u001b[1;32m     <a href='vscode-notebook-cell:/Users/niharkoppolu/Desktop/ESN/MNIST_Reservoir.ipynb#ch0000004?line=13'>14</a>\u001b[0m     all_testsets \u001b[39m=\u001b[39m numpy\u001b[39m.\u001b[39masfarray(all_testsets)\n",
      "\u001b[0;31mTypeError\u001b[0m: 'int' object is not iterable"
     ]
    }
   ],
   "source": [
    "#Read in Test Data\n",
    "#read in TEST data\n",
    "test_data_file = open(r\"/Users/niharkoppolu/Desktop/Number_Detection_Project/mnist_data_set/mnist_test.csv\")\n",
    "test_data_list = test_data_file.readlines()\n",
    "test_data_file.close()\n",
    "\n",
    "test_length = 10\n",
    "\n",
    "test_inputs = numpy.empty((train_length, 784))\n",
    "correct_answers = numpy.empty(train_length)\n",
    "\n",
    "for i in test_length:\n",
    "    all_testsets = test_data_list[i].split(',')\n",
    "    all_testsets = numpy.asfarray(all_testsets)\n",
    "\n",
    "    #copying in test inputs\n",
    "    test_inputs[i] = (all_testsets[1:] / 255.0 * 0.99) + 0.01\n",
    "    #copying in test answers\n",
    "    correct_answers[i] = int(all_testsets[0])\n",
    "    pass"
   ]
  },
  {
   "cell_type": "code",
   "execution_count": null,
   "id": "4e3734e2",
   "metadata": {},
   "outputs": [
    {
     "name": "stderr",
     "output_type": "stream",
     "text": [
      "Running Model-4: 100%|██████████| 1/1 [00:00<00:00, 1422.28it/s]"
     ]
    },
    {
     "name": "stdout",
     "output_type": "stream",
     "text": [
      "\n",
      "\n",
      "Correct Ans: 1.0\n",
      "\tPredicted Ans: [[3.2046111 3.2046111 3.2046111 3.2046111 3.2046111 3.2046111 3.2046111\n",
      "  3.2046111 3.2046111 3.2046111]]\n"
     ]
    },
    {
     "name": "stderr",
     "output_type": "stream",
     "text": [
      "\n"
     ]
    },
    {
     "ename": "ValueError",
     "evalue": "The truth value of an array with more than one element is ambiguous. Use a.any() or a.all()",
     "output_type": "error",
     "traceback": [
      "\u001b[0;31m---------------------------------------------------------------------------\u001b[0m",
      "\u001b[0;31mValueError\u001b[0m                                Traceback (most recent call last)",
      "\u001b[1;32m/Users/niharkoppolu/Desktop/ESN/MNIST_Reservoir.ipynb Cell 5'\u001b[0m in \u001b[0;36m<cell line: 6>\u001b[0;34m()\u001b[0m\n\u001b[1;32m     <a href='vscode-notebook-cell:/Users/niharkoppolu/Desktop/ESN/MNIST_Reservoir.ipynb#ch0000005?line=9'>10</a>\u001b[0m \u001b[39mprint\u001b[39m(\u001b[39m\"\u001b[39m\u001b[39m\\t\u001b[39;00m\u001b[39mPredicted Ans:\u001b[39m\u001b[39m\"\u001b[39m, Pred_answer)\n\u001b[1;32m     <a href='vscode-notebook-cell:/Users/niharkoppolu/Desktop/ESN/MNIST_Reservoir.ipynb#ch0000005?line=10'>11</a>\u001b[0m \u001b[39m#check if pred val matches correct answer\u001b[39;00m\n\u001b[0;32m---> <a href='vscode-notebook-cell:/Users/niharkoppolu/Desktop/ESN/MNIST_Reservoir.ipynb#ch0000005?line=11'>12</a>\u001b[0m \u001b[39mif\u001b[39;00m correct_answers[i] \u001b[39m==\u001b[39m Pred_answer:\n\u001b[1;32m     <a href='vscode-notebook-cell:/Users/niharkoppolu/Desktop/ESN/MNIST_Reservoir.ipynb#ch0000005?line=12'>13</a>\u001b[0m     scorecard \u001b[39m+\u001b[39m\u001b[39m=\u001b[39m \u001b[39m1\u001b[39m\n\u001b[1;32m     <a href='vscode-notebook-cell:/Users/niharkoppolu/Desktop/ESN/MNIST_Reservoir.ipynb#ch0000005?line=13'>14</a>\u001b[0m     \u001b[39mpass\u001b[39;00m\n",
      "\u001b[0;31mValueError\u001b[0m: The truth value of an array with more than one element is ambiguous. Use a.any() or a.all()"
     ]
    }
   ],
   "source": [
    "#Run Model and Display scorecard\n",
    "\n",
    "scorecard = 0\n",
    "i = 0\n",
    "\n",
    "while i < 10:\n",
    "    Pred_answer = esn_model.run(test_inputs[i])\n",
    "    #Pred_answer = int(Pred_answer)\n",
    "    print(\"\\n\\nCorrect Ans:\", correct_answers[i])\n",
    "    print(\"\\tPredicted Ans:\", Pred_answer)\n",
    "    #check if pred val matches correct answer\n",
    "    if correct_answers[i] == Pred_answer:\n",
    "        scorecard += 1\n",
    "        pass\n",
    "    i += 1\n",
    "pass\n",
    "\n",
    "performance = scorecard/test_length\n",
    "\n",
    "print(\"\\n\\nFinal performance:\", performance)\n",
    "\n",
    "\n",
    "\n",
    "\n",
    "    "
   ]
  },
  {
   "cell_type": "markdown",
   "id": "f4d92392",
   "metadata": {},
   "source": []
  }
 ],
 "metadata": {
  "kernelspec": {
   "display_name": "Gillespy2",
   "language": "python",
   "name": "gillespy2"
  },
  "language_info": {
   "codemirror_mode": {
    "name": "ipython",
    "version": 3
   },
   "file_extension": ".py",
   "mimetype": "text/x-python",
   "name": "python",
   "nbconvert_exporter": "python",
   "pygments_lexer": "ipython3",
   "version": "3.10.4"
  }
 },
 "nbformat": 4,
 "nbformat_minor": 5
}
