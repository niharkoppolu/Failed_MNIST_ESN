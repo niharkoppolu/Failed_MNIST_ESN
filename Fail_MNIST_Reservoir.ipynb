{
 "cells": [
  {
   "cell_type": "code",
   "execution_count": 19,
   "id": "bd38a34d",
   "metadata": {},
   "outputs": [],
   "source": [
    "#MNIST Reservoir                         #07/16/2021\n",
    "\n",
    "import reservoirpy as rpy\n",
    "\n",
    "from reservoirpy.nodes import Reservoir, Ridge\n",
    "\n",
    "#Create Reservoir\n",
    "reservoir = Reservoir(100, lr=0.5, sr=0.9)\n",
    "#Create Readout Layer\n",
    "readout_layer = Ridge(ridge=1e-7) #Ridge is the readout lyaer: uses linear regression\n",
    "\n",
    "MNIST_ESN = reservoir >> readout_layer #This connects the readout_layer node to the reservoir\n"
   ]
  },
  {
   "cell_type": "code",
   "execution_count": 20,
   "id": "94ee8a93",
   "metadata": {},
   "outputs": [],
   "source": [
    "import numpy\n",
    "import matplotlib.pyplot\n",
    "\n",
    "#Format Mnist Training Data: first value in the set is the Lable, following values are pixel values \n",
    "\n",
    "tr_data_file = open(r\"/Users/niharkoppolu/Desktop/Number_Detection_Project/mnist_data_set/mnist_train.csv\")\n",
    "tr_data_list = tr_data_file.readlines()\n",
    "tr_data_file.close()\n",
    "\n",
    "#The following code is USED AS A Test: the first value in the MNIST list is broken up into the Label and the pixels.\n",
    "#Then the pixels are printed in a grid to produce a visual of the number\n",
    "\"\"\"\n",
    "set1_values = tr_data_list[0].split(',')\n",
    "#print label\n",
    "label = set1_values[0]\n",
    "print(\"label: \", label)\n",
    "\n",
    "image_array = numpy.asfarray(set1_values[1:]).reshape((28,28))\n",
    "matplotlib.pyplot.imshow(image_array, cmap='Greys', interpolation='None')\n",
    "\"\"\"\n",
    "#tr_len = len(tr_data_list)\n",
    "tr_len = 5000\n",
    "breaker = 0\n",
    "\n",
    "index = 0\n",
    "all_inputs = numpy.empty((tr_len, 784))\n",
    "all_targets = numpy.empty((tr_len,10))\n",
    "for MNIST_single_value in tr_data_list:\n",
    "#used to end LOOP\n",
    "    if breaker >= tr_len: \n",
    "        break;\n",
    "\n",
    "    #convert test data from list off comma sep. vals to array of floats\n",
    "    single_value_list = MNIST_single_value.split(',')\n",
    "\n",
    "    #rescale data from 0 - 255 to range btw 0 - 0.99\n",
    "    all_inputs[index] = (numpy.asfarray(single_value_list[1:]) / 255.0 * 0.99) + 0.01\n",
    "\n",
    "    no_targets = len(all_targets)\n",
    "    possible_range = 10\n",
    "    for i in range(no_targets):\n",
    "        for index in range(possible_range):\n",
    "            #sets all values in array associated with target to 0.01\n",
    "            all_targets[i][index] = 0.01\n",
    "        #sets the array index associated with the correct value to 0.99\n",
    "        all_targets[i][int(single_value_list[0])] = 0.99\n",
    "    \n",
    "    \n",
    "    index += 1\n",
    "    #used to end loop\n",
    "    breaker += 1\n",
    "    pass"
   ]
  },
  {
   "cell_type": "code",
   "execution_count": 21,
   "id": "db8e32dc",
   "metadata": {},
   "outputs": [
    {
     "name": "stderr",
     "output_type": "stream",
     "text": [
      "Running Model-3: 5000it [00:00, 19515.02it/s]?, ?it/s]\n",
      "Running Model-3: 100%|██████████| 1/1 [00:00<00:00,  3.75it/s]\n"
     ]
    },
    {
     "name": "stdout",
     "output_type": "stream",
     "text": [
      "Fitting node Ridge-3...\n",
      "True True True\n"
     ]
    }
   ],
   "source": [
    "#Training the Reservoir\n",
    "\n",
    "MNIST_ESN = MNIST_ESN.fit(all_inputs, all_targets, warmup=0) #This trains the esn_model using the X_train as the input data and Y_train as the target data \n",
    "# Does the same thing as the previous program, just more condensed\n",
    "\n",
    "print(reservoir.is_initialized, readout_layer.is_initialized, readout_layer.fitted)"
   ]
  },
  {
   "cell_type": "code",
   "execution_count": 22,
   "id": "b2056355",
   "metadata": {},
   "outputs": [],
   "source": [
    "#read in TEST data\n",
    "test_data_file = open(r\"/Users/niharkoppolu/Desktop/Number_Detection_Project/mnist_data_set/mnist_test.csv\")\n",
    "test_data_list = test_data_file.readlines()\n",
    "test_data_file.close()\n",
    "\n",
    "no_of_tests = 0\n",
    "\n",
    "all_test_pixels = numpy.empty((10, 784))\n",
    "all_correct_values = numpy.empty((10,10))\n",
    "\n",
    "while no_of_tests != 10:\n",
    "\n",
    "    single_test = test_data_list[no_of_tests].split(',')\n",
    "    all_test_pixels[no_of_tests] = (numpy.asfarray(single_test[1:]) / 255.0 * 0.99) + 0.01 \n",
    "\n",
    "    for i in range(10):\n",
    "        #sets all values in array associated with target to 0.01\n",
    "        all_correct_values[no_of_tests][i] = 0.01\n",
    "    \n",
    "    all_correct_values[no_of_tests][int(single_test[0])] = 0.99\n",
    "    \n",
    "    no_of_tests += 1\n",
    "    pass\n",
    "    "
   ]
  },
  {
   "cell_type": "code",
   "execution_count": 23,
   "id": "4585cfeb",
   "metadata": {},
   "outputs": [],
   "source": [
    "def Find_Correct_Index(array):\n",
    "     highest_val = max(array)\n",
    "     \n",
    "     for correct_index in range(10):\n",
    "         if array[correct_index] == highest_val:\n",
    "             return correct_index\n",
    "        "
   ]
  },
  {
   "cell_type": "code",
   "execution_count": 24,
   "id": "710fca37",
   "metadata": {},
   "outputs": [
    {
     "name": "stderr",
     "output_type": "stream",
     "text": [
      "Running Model-3: 100%|██████████| 1/1 [00:00<00:00, 434.42it/s]\n"
     ]
    },
    {
     "name": "stdout",
     "output_type": "stream",
     "text": [
      "Predicted value:  2\n",
      "Correct value:  7\n"
     ]
    },
    {
     "name": "stderr",
     "output_type": "stream",
     "text": [
      "Running Model-3: 100%|██████████| 1/1 [00:00<00:00, 3894.43it/s]\n"
     ]
    },
    {
     "name": "stdout",
     "output_type": "stream",
     "text": [
      "Predicted value:  2\n",
      "Correct value:  2\n"
     ]
    },
    {
     "name": "stderr",
     "output_type": "stream",
     "text": [
      "Running Model-3: 100%|██████████| 1/1 [00:00<00:00, 4975.45it/s]\n"
     ]
    },
    {
     "name": "stdout",
     "output_type": "stream",
     "text": [
      "Predicted value:  2\n",
      "Correct value:  1\n"
     ]
    },
    {
     "name": "stderr",
     "output_type": "stream",
     "text": [
      "Running Model-3: 100%|██████████| 1/1 [00:00<00:00, 5077.85it/s]\n"
     ]
    },
    {
     "name": "stdout",
     "output_type": "stream",
     "text": [
      "Predicted value:  2\n",
      "Correct value:  0\n"
     ]
    },
    {
     "name": "stderr",
     "output_type": "stream",
     "text": [
      "Running Model-3: 100%|██████████| 1/1 [00:00<00:00, 5377.31it/s]\n"
     ]
    },
    {
     "name": "stdout",
     "output_type": "stream",
     "text": [
      "Predicted value:  2\n",
      "Correct value:  4\n"
     ]
    },
    {
     "name": "stderr",
     "output_type": "stream",
     "text": [
      "Running Model-3: 100%|██████████| 1/1 [00:00<00:00, 3013.15it/s]\n"
     ]
    },
    {
     "name": "stdout",
     "output_type": "stream",
     "text": [
      "Predicted value:  2\n",
      "Correct value:  1\n"
     ]
    },
    {
     "name": "stderr",
     "output_type": "stream",
     "text": [
      "Running Model-3: 100%|██████████| 1/1 [00:00<00:00, 2654.62it/s]\n"
     ]
    },
    {
     "name": "stdout",
     "output_type": "stream",
     "text": [
      "Predicted value:  2\n",
      "Correct value:  4\n"
     ]
    },
    {
     "name": "stderr",
     "output_type": "stream",
     "text": [
      "Running Model-3: 100%|██████████| 1/1 [00:00<00:00, 3446.43it/s]\n"
     ]
    },
    {
     "name": "stdout",
     "output_type": "stream",
     "text": [
      "Predicted value:  2\n",
      "Correct value:  9\n"
     ]
    },
    {
     "name": "stderr",
     "output_type": "stream",
     "text": [
      "Running Model-3: 100%|██████████| 1/1 [00:00<00:00, 2993.79it/s]\n"
     ]
    },
    {
     "name": "stdout",
     "output_type": "stream",
     "text": [
      "Predicted value:  2\n",
      "Correct value:  5\n"
     ]
    },
    {
     "name": "stderr",
     "output_type": "stream",
     "text": [
      "Running Model-3: 100%|██████████| 1/1 [00:00<00:00, 6374.32it/s]"
     ]
    },
    {
     "name": "stdout",
     "output_type": "stream",
     "text": [
      "Predicted value:  2\n",
      "Correct value:  9\n",
      "The number of correct predictions done by the reservoir is:  10.0\n"
     ]
    },
    {
     "name": "stderr",
     "output_type": "stream",
     "text": [
      "\n"
     ]
    }
   ],
   "source": [
    "#Run Tests\n",
    "\n",
    "Predicted_val_set = numpy.empty((10,10))\n",
    "\n",
    "i = 0 \n",
    "no_correct = 0\n",
    "while i != 10:\n",
    "\n",
    "    Predicted_val_set[i] = MNIST_ESN.run(all_test_pixels[i])\n",
    "    Predicted_Answer = Find_Correct_Index(Predicted_val_set[i])\n",
    "    Correct_Answer = Find_Correct_Index(all_correct_values[i])\n",
    "\n",
    "    print(\"Predicted value: \", Predicted_Answer)\n",
    "    print(\"Correct value: \", Correct_Answer)\n",
    "    if int(Predicted_Answer) == Correct_Answer: \n",
    "        no_correct += 1\n",
    "        pass\n",
    "\n",
    "    i += 1\n",
    "    pass\n",
    "\n",
    "percent_correct = (no_correct / i) * 100\n",
    "\n",
    "print(\"Performance of Reservoir: \", percent_correct)"
   ]
  }
 ],
 "metadata": {
  "kernelspec": {
   "display_name": "Gillespy2",
   "language": "python",
   "name": "gillespy2"
  },
  "language_info": {
   "codemirror_mode": {
    "name": "ipython",
    "version": 3
   },
   "file_extension": ".py",
   "mimetype": "text/x-python",
   "name": "python",
   "nbconvert_exporter": "python",
   "pygments_lexer": "ipython3",
   "version": "3.10.4"
  }
 },
 "nbformat": 4,
 "nbformat_minor": 5
}
